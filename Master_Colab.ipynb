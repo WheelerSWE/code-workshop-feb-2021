{
  "nbformat": 4,
  "nbformat_minor": 0,
  "metadata": {
    "colab": {
      "name": "Master Colab",
      "provenance": [],
      "collapsed_sections": [],
      "toc_visible": true,
      "include_colab_link": true
    },
    "kernelspec": {
      "name": "python3",
      "display_name": "Python 3"
    }
  },
  "cells": [
    {
      "cell_type": "markdown",
      "metadata": {
        "id": "view-in-github",
        "colab_type": "text"
      },
      "source": [
        "<a href=\"https://colab.research.google.com/github/WheelerSWE/code-workshop-feb-2021/blob/main/Master_Colab.ipynb\" target=\"_parent\"><img src=\"https://colab.research.google.com/assets/colab-badge.svg\" alt=\"Open In Colab\"/></a>"
      ]
    },
    {
      "cell_type": "markdown",
      "metadata": {
        "id": "h9-ntbdELZeF"
      },
      "source": [
        "# **DAY 1**"
      ]
    },
    {
      "cell_type": "markdown",
      "metadata": {
        "id": "vq8lwklXVBpS"
      },
      "source": [
        "#**What is Programming?**\r\n",
        "\r\n"
      ]
    },
    {
      "cell_type": "markdown",
      "metadata": {
        "id": "7qYOeLJ073uv"
      },
      "source": [
        "Programming is essentially teaching a computer to perform a specific task. We do this using programming languages, one of which is Python. "
      ]
    },
    {
      "cell_type": "markdown",
      "metadata": {
        "id": "IV0FBTzIVJeZ"
      },
      "source": [
        "#**About Python**"
      ]
    },
    {
      "cell_type": "markdown",
      "metadata": {
        "id": "KHRhViOI9Ax2"
      },
      "source": [
        "Python is a popular general-purpose programming language. It's also high level, so its relatively easy to learn.\r\n",
        "\r\n",
        "Because Python is so popular, there's a lot of documentation and tutorials online.\r\n",
        "\r\n",
        "Python is used for:\r\n",
        "* Data science\r\n",
        "* Web development\r\n",
        "* Software development\r\n",
        "* Scientific computing\r\n",
        "* Game development"
      ]
    },
    {
      "cell_type": "markdown",
      "metadata": {
        "id": "7vtHQUmMSxfK"
      },
      "source": [
        "Here's a sample project in Python:\r\n",
        "\r\n",
        "* [Virtual Pumpkin Launching Simulation](https://repl.it/@BoreMore/pumpkin-launching-sim)"
      ]
    },
    {
      "cell_type": "markdown",
      "metadata": {
        "id": "NzFNKRjZVQYa"
      },
      "source": [
        "#**The Basics**"
      ]
    },
    {
      "cell_type": "markdown",
      "metadata": {
        "id": "CA3G1fhtQeKS"
      },
      "source": [
        "### Indentation"
      ]
    },
    {
      "cell_type": "code",
      "metadata": {
        "id": "riGV_sHJxCd7"
      },
      "source": [
        "# In python, blocks of code are indented. The line before the indentation needs to end in a colon (:), and to indent, use the tab button. \r\n",
        "\r\n",
        "# Here's a couple of examples:\r\n",
        "if 7 > 2:\r\n",
        "  print(\"Hello, world!\")\r\n",
        "\r\n",
        "for x in range(0,5):\r\n",
        "  print(x)\r\n",
        "\r\n",
        "def random_function():\r\n",
        "  print(\"Functions require indentations.\")\r\n",
        "random_function()"
      ],
      "execution_count": null,
      "outputs": []
    },
    {
      "cell_type": "code",
      "metadata": {
        "id": "G8DcfVdQxzLM"
      },
      "source": [
        "# Try it:\r\n",
        "# The following code won't run correctly. Can you fix it by indenting the correct line and adding colons where they belong?\r\n",
        "if 5 == 5\r\n",
        "print(\"5 equals 5\")\r\n",
        "\r\n",
        "for x in \"banana\"\r\n",
        "print(x)\r\n",
        "\r\n",
        "def indent_me()\r\n",
        "print(\"I'm indented now!\")\r\n",
        "\r\n",
        "indent_me()"
      ],
      "execution_count": null,
      "outputs": []
    },
    {
      "cell_type": "markdown",
      "metadata": {
        "id": "-2hrTTqEVlKC"
      },
      "source": [
        "### Variables"
      ]
    },
    {
      "cell_type": "markdown",
      "metadata": {
        "id": "qLTAaS882uuN"
      },
      "source": [
        "Variables store values so that they can be reused later on.\r\n",
        "\r\n",
        "It is best practice to only use lowercase letters, underscores, and numbers for Python variables.\r\n",
        "\r\n",
        "It is also good practice to use descriptive variable names so that anyone reading the code knows what the variable stores."
      ]
    },
    {
      "cell_type": "code",
      "metadata": {
        "id": "zqawXkNv0Q7d"
      },
      "source": [
        "# Use an equals sign to assign variables:\r\n",
        "# This variable stores an integer, which can be whole numbers like your age.\r\n",
        "x = 50\r\n",
        "# This variable stores a string, which can be things like names.\r\n",
        "y = \"Hi!\"\r\n",
        "print(x)\r\n",
        "print(y)"
      ],
      "execution_count": null,
      "outputs": []
    },
    {
      "cell_type": "code",
      "metadata": {
        "id": "c3B9h_p93RU1"
      },
      "source": [
        "# Try it:\r\n",
        "\r\n",
        "# Create a variable named my_age and store your age in it:\r\n",
        "\r\n",
        "\r\n",
        "# Create a variable named my_name and store your name in it:\r\n"
      ],
      "execution_count": null,
      "outputs": []
    },
    {
      "cell_type": "markdown",
      "metadata": {
        "id": "X31BPMRCQySA"
      },
      "source": [
        "### Comments"
      ]
    },
    {
      "cell_type": "markdown",
      "metadata": {
        "id": "sBnxO9au0Sfr"
      },
      "source": [
        "Comments are essential for documentation (which explains how software works) and debugging.\r\n",
        "\r\n",
        "(Fun fact: the word \"debugging\" originates in the 1940s when a moth that prevented a computer from functioning properly was found inside a computer part)"
      ]
    },
    {
      "cell_type": "code",
      "metadata": {
        "id": "mHIhawGYwYkU"
      },
      "source": [
        "# For single line comments, put # in front of what you want to comment\r\n",
        "\r\n",
        "\"\"\"\r\n",
        "For multi-line comments,\r\n",
        "use 3 quotation marks\r\n",
        "before and after all the lines\r\n",
        "\"\"\""
      ],
      "execution_count": null,
      "outputs": []
    },
    {
      "cell_type": "code",
      "metadata": {
        "id": "0tJDJT8OwqSi"
      },
      "source": [
        "# Try it:\r\n",
        "\r\n",
        "Comment out this line\r\n",
        "\r\n",
        "\r\n",
        "Comment\r\n",
        "out\r\n",
        "all\r\n",
        "these\r\n",
        "lines\r\n"
      ],
      "execution_count": null,
      "outputs": []
    },
    {
      "cell_type": "markdown",
      "metadata": {
        "id": "7YW53QqpVs3J"
      },
      "source": [
        "### Data Types"
      ]
    },
    {
      "cell_type": "markdown",
      "metadata": {
        "id": "JhnUL1_04vKl"
      },
      "source": [
        "Data types describe the type of information that is stored in a variable.\r\n",
        "\r\n",
        "Python has several data types, including:\r\n",
        "* **Booleans (bool)**\r\n",
        "* **Integers (int)**\r\n",
        "* **Floats (float)**\r\n",
        "* **Strings (str)**\r\n",
        "* **Lists (list)**\r\n",
        "* **Dictionaries (dict)**\r\n",
        "* Sets (set)\r\n",
        "* Tuples (tuple)\r\n",
        "\r\n"
      ]
    },
    {
      "cell_type": "markdown",
      "metadata": {
        "id": "30lv_A2Q6R2_"
      },
      "source": [
        "##### **Booleans**"
      ]
    },
    {
      "cell_type": "markdown",
      "metadata": {
        "id": "CyqATSXV7UB1"
      },
      "source": [
        "Booleans can have two values: True or False."
      ]
    },
    {
      "cell_type": "code",
      "metadata": {
        "id": "5U2XRWfQ7yMs"
      },
      "source": [
        "boolean_variable = True\r\n",
        "\r\n",
        "# get the variable value\r\n",
        "print(boolean_variable)\r\n",
        "\r\n",
        "# get the variable type\r\n",
        "type(boolean_variable)"
      ],
      "execution_count": null,
      "outputs": []
    },
    {
      "cell_type": "code",
      "metadata": {
        "id": "b83Kv8A58JtU"
      },
      "source": [
        "boolean_variable_2 = False\r\n",
        "\r\n",
        "# get the variable value\r\n",
        "print(boolean_variable_2)\r\n",
        "\r\n",
        "# get the variable type\r\n",
        "type(boolean_variable_2)"
      ],
      "execution_count": null,
      "outputs": []
    },
    {
      "cell_type": "code",
      "metadata": {
        "id": "d_D3Zz8kJz9g"
      },
      "source": [
        "# Try it:\r\n",
        "\r\n",
        "# Create a new variable named programming_is_fun and assign a boolean value to it\r\n"
      ],
      "execution_count": null,
      "outputs": []
    },
    {
      "cell_type": "markdown",
      "metadata": {
        "id": "6rLPoF9e6h8D"
      },
      "source": [
        "##### **Integers**"
      ]
    },
    {
      "cell_type": "markdown",
      "metadata": {
        "id": "FeFb2FUB7fXc"
      },
      "source": [
        "Integers are whole numbers. Integers can be positive or negative whole numbers."
      ]
    },
    {
      "cell_type": "code",
      "metadata": {
        "id": "EameG0v18i_k"
      },
      "source": [
        "int_1 = 23\r\n",
        "\r\n",
        "# get the variable value\r\n",
        "print(int_1)\r\n",
        "\r\n",
        "# get the variable type\r\n",
        "type(int_1)"
      ],
      "execution_count": null,
      "outputs": []
    },
    {
      "cell_type": "code",
      "metadata": {
        "id": "bLS58WKd9Ivt"
      },
      "source": [
        "int_2 = -100\r\n",
        "\r\n",
        "# get the variable value\r\n",
        "print(int_2)\r\n",
        "\r\n",
        "# get the variable type\r\n",
        "type(int_2)"
      ],
      "execution_count": null,
      "outputs": []
    },
    {
      "cell_type": "code",
      "metadata": {
        "id": "MrEzEfTxKB8V"
      },
      "source": [
        "# Try it:\r\n",
        "\r\n",
        "# Create a variable named speed_limit and assign an integer value to it.\r\n"
      ],
      "execution_count": null,
      "outputs": []
    },
    {
      "cell_type": "markdown",
      "metadata": {
        "id": "McBwdVTj6ouK"
      },
      "source": [
        "##### **Floats**"
      ]
    },
    {
      "cell_type": "markdown",
      "metadata": {
        "id": "Jpw6X0IT7iQb"
      },
      "source": [
        "Floats are decimal numbers. Floats can be positive or negative."
      ]
    },
    {
      "cell_type": "code",
      "metadata": {
        "id": "CS7v_SmG90bk"
      },
      "source": [
        "float_1 = -2.3\r\n",
        "\r\n",
        "# get the variable value\r\n",
        "print(float_1)\r\n",
        "\r\n",
        "# get the variable type\r\n",
        "type(float_1)"
      ],
      "execution_count": null,
      "outputs": []
    },
    {
      "cell_type": "code",
      "metadata": {
        "id": "C-hLmEO8-CyG"
      },
      "source": [
        "float_2 = 1.1E63\r\n",
        "\r\n",
        "# get the variable value\r\n",
        "print(float_2)\r\n",
        "\r\n",
        "# get the variable type\r\n",
        "type(float_2)"
      ],
      "execution_count": null,
      "outputs": []
    },
    {
      "cell_type": "code",
      "metadata": {
        "id": "I9wqGrV4QIXX"
      },
      "source": [
        "# Try it:\r\n",
        "\r\n",
        "# Create a variable named height_in_meters and assign a float value to it.\r\n"
      ],
      "execution_count": null,
      "outputs": []
    },
    {
      "cell_type": "markdown",
      "metadata": {
        "id": "DWwwg_-K6px1"
      },
      "source": [
        "##### **Strings**"
      ]
    },
    {
      "cell_type": "markdown",
      "metadata": {
        "id": "sMSTEyiD7olZ"
      },
      "source": [
        "Strings contain text. They can be enclosed in double or single quotation marks."
      ]
    },
    {
      "cell_type": "code",
      "metadata": {
        "id": "49hlb9rg9H78"
      },
      "source": [
        "#you can assign a string to a variable like this:\r\n",
        "a_string = \"This is a string\"\r\n",
        "\r\n",
        "#a string can also be single quotes:\r\n",
        "string_too = 'this is a string too'\r\n",
        "\r\n",
        "#you can create a multiline string with tripple quotes\r\n",
        "multiline = \"\"\"this\r\n",
        "has\r\n",
        "multiple\r\n",
        "lines\r\n",
        "that stay that way when you print it\"\"\"\r\n",
        "print(multiline)"
      ],
      "execution_count": null,
      "outputs": []
    },
    {
      "cell_type": "markdown",
      "metadata": {
        "id": "ORAWJ2kzJpGV"
      },
      "source": [
        "###### String Methods"
      ]
    },
    {
      "cell_type": "markdown",
      "metadata": {
        "id": "ozvGUHrNN5p4"
      },
      "source": [
        "String indexes start at zero. This means that the indexes for a string will look like:\r\n",
        "```\r\n",
        " 0|1|2|3|4|5|6|7|8|9\r\n",
        " w|h|a|t|'|s| |u|p|?\r\n",
        "```\r\n",
        "\r\n",
        "You can use this to access a specific character in a string. (string[index]) will return the character at the given index)"
      ]
    },
    {
      "cell_type": "code",
      "metadata": {
        "id": "FZ5aZoxTPzHy"
      },
      "source": [
        "dino = \"Gilmoreosaurus\"\r\n",
        "print(dino[8])"
      ],
      "execution_count": null,
      "outputs": []
    },
    {
      "cell_type": "markdown",
      "metadata": {
        "id": "p80KxPAXR_aM"
      },
      "source": [
        "You can also use negative index numbers, counting from the end of the string, starting with -1. \r\n",
        "\r\n",
        "\r\n",
        "```\r\n",
        "-10|-9 |-8 |-7 |-6 |-5 |-4 |-3 |-2 |-1\r\n",
        " w | h | a | t | ' | s |   | u | p | ?\r\n",
        "```\r\n",
        "\r\n"
      ]
    },
    {
      "cell_type": "code",
      "metadata": {
        "id": "nvh6zy9gSqk8"
      },
      "source": [
        "dino = \"Gilmoreosaurus\"\r\n",
        "print(dino[-6])"
      ],
      "execution_count": null,
      "outputs": []
    },
    {
      "cell_type": "markdown",
      "metadata": {
        "id": "1pmVaHHTU8mr"
      },
      "source": [
        "You can also slice strings to access more than just one letter of the string (a section of a string is called a substring). This looks like:\r\n",
        "string[(starting index(defaults to 0)):(final index (noninclusive) (defaults to end of string)):(stride)] \r\n",
        "The stride gives the number of indexes to move forward between each character returned. For example, a stride of two would return every other character, and a stride of four would return every fourth character. Note that the index where the string ends (if specified) is noniclusive, so it will not return the character at that index.\r\n",
        "For example:"
      ]
    },
    {
      "cell_type": "code",
      "metadata": {
        "id": "rrK_PUw2YFYa"
      },
      "source": [
        "shark = \"scalloped hammerhead\"\r\n",
        "#prints the first word\r\n",
        "print(shark[:9])\r\n",
        "\r\n",
        "#prints every third letter in the second word\r\n",
        "print(shark[10::3])"
      ],
      "execution_count": null,
      "outputs": []
    },
    {
      "cell_type": "markdown",
      "metadata": {
        "id": "NPVGXu7aaGEj"
      },
      "source": [
        "Use slicing to print \"armoured dinosaur\" out of the string below."
      ]
    },
    {
      "cell_type": "code",
      "metadata": {
        "id": "wz8AANgfaGc2"
      },
      "source": [
        " Minmi = \"The Minmi was an armoured dinosaur that was about three meters long.\""
      ],
      "execution_count": null,
      "outputs": []
    },
    {
      "cell_type": "markdown",
      "metadata": {
        "id": "vZArBIIBcAdp"
      },
      "source": [
        "You can also use negative indexes to slice strings (keep in mind that the starting index needs to be before the stopping index). You can also use a negative value for the stride to return the string in reverse order. For example:"
      ]
    },
    {
      "cell_type": "code",
      "metadata": {
        "id": "qmjTCha6gdYy"
      },
      "source": [
        "dino = \"Rhabdodon\"\r\n",
        "#this prints nothing\r\n",
        "print(dino[-1:-4])\r\n",
        "\r\n",
        "#this prints last three letters\r\n",
        "print(dino[-4:])\r\n",
        "\r\n",
        "#this prints the string in reverse order\r\n",
        "print(dino[::-1])"
      ],
      "execution_count": null,
      "outputs": []
    },
    {
      "cell_type": "markdown",
      "metadata": {
        "id": "ln1TZDjQlEMi"
      },
      "source": [
        "You can use \"+\" to add strings together. For example:"
      ]
    },
    {
      "cell_type": "code",
      "metadata": {
        "id": "69MUqHUElaop"
      },
      "source": [
        "print( \"this\" + \"has\" + \"no\" + \"spaces\")\r\n",
        "\r\n",
        "s = \"you can also\"\r\n",
        "t = \"use variables\"\r\n",
        "st = s + \" \" + t\r\n",
        "print(st)"
      ],
      "execution_count": null,
      "outputs": []
    },
    {
      "cell_type": "markdown",
      "metadata": {
        "id": "JurJ8NwMmcbR"
      },
      "source": [
        "You can combine string concatenation (adding strings together) with slicing to add substrings together. For example:"
      ]
    },
    {
      "cell_type": "code",
      "metadata": {
        "id": "P4tjprGomqcb"
      },
      "source": [
        "crab = \"crabs are the ideal form\"\r\n",
        "crabs = crab[:10] + crab[:6]\r\n",
        "print(crabs)"
      ],
      "execution_count": null,
      "outputs": []
    },
    {
      "cell_type": "markdown",
      "metadata": {
        "id": "8Lobpg6qo2se"
      },
      "source": [
        "Use string slicing and concatenation to print \"Sharks are cool\" below"
      ]
    },
    {
      "cell_type": "code",
      "metadata": {
        "id": "_u1dzMZpo3DU"
      },
      "source": [
        "hmm = \"Am I cool?\"\r\n",
        "Sharks = \"Sharks actually aren't very closely related to bony fish\""
      ],
      "execution_count": null,
      "outputs": []
    },
    {
      "cell_type": "markdown",
      "metadata": {
        "id": "85YnctXFvwHM"
      },
      "source": [
        "The len() function returns the length of a string. For example:"
      ]
    },
    {
      "cell_type": "code",
      "metadata": {
        "id": "Pv5RXDkc5khN"
      },
      "source": [
        "string = \"is it octopuses or octopi? octopedes?\"\r\n",
        "print(len(string))"
      ],
      "execution_count": null,
      "outputs": []
    },
    {
      "cell_type": "markdown",
      "metadata": {
        "id": "gNoYO9M3_VZR"
      },
      "source": [
        "A few other things you can do with strings:"
      ]
    },
    {
      "cell_type": "code",
      "metadata": {
        "id": "pJwOyrZPB8T2"
      },
      "source": [
        "#you can use the \"in\" keyword to check if a string appears in another string\r\n",
        "turtle = \"the leatherback sea turtle is the largest living turtle\"\r\n",
        "print(\"sea\" in turtle) #this is a boolean (should return true)\r\n",
        "\r\n",
        "#you can use \"not in\" to check if a string does not appear in anotehr string\r\n",
        "print(\"sea\" not in turtle) #this is also a boolean (should return false)"
      ],
      "execution_count": null,
      "outputs": []
    },
    {
      "cell_type": "code",
      "metadata": {
        "id": "LGLbBvZyLoVV"
      },
      "source": [
        "#below, use in or not in to find if \"halo\" is contained within the string\r\n",
        "string = \"Pachycephalosaurus\""
      ],
      "execution_count": null,
      "outputs": []
    },
    {
      "cell_type": "code",
      "metadata": {
        "id": "F9slSXdyDi5p"
      },
      "source": [
        "#the upper() method returns the string in uppercase (without modifying the string)\r\n",
        "dino = \"CeTiOsAuRuS\"\r\n",
        "print(dino.upper())\r\n",
        "print(dino)\r\n",
        "\r\n",
        "#the lower() method returns the string in lowercase (without modifying the original string)\r\n",
        "print(dino.lower())\r\n",
        "print(dino)"
      ],
      "execution_count": null,
      "outputs": []
    },
    {
      "cell_type": "code",
      "metadata": {
        "id": "1ENYq7dMMVVi"
      },
      "source": [
        "#below, use upper() to print the uppercase of the string\r\n",
        "String = \"Monolophosaurus\""
      ],
      "execution_count": null,
      "outputs": []
    },
    {
      "cell_type": "code",
      "metadata": {
        "id": "zAGHjpOwExcJ"
      },
      "source": [
        "#count() returns the number of times a given string appears in another string\r\n",
        "dino = \"orodromeus\"\r\n",
        "print(dino.count(\"o\")) #should print the number of times \"o\" appears in the string"
      ],
      "execution_count": null,
      "outputs": []
    },
    {
      "cell_type": "code",
      "metadata": {
        "id": "DK0SoK2pMoUw"
      },
      "source": [
        "#below, use count() to find and print the number of times a word, letter, or phrase appears in the string\r\n",
        "crabs = \"what makes a crab a true crab, instead of a false crab?\"\r\n"
      ],
      "execution_count": null,
      "outputs": []
    },
    {
      "cell_type": "code",
      "metadata": {
        "id": "COJAFYmsF1Zp"
      },
      "source": [
        "#find() returns the first index at which a string appears within another string\r\n",
        "#if the string does not appear within the other string, it will return -1\r\n",
        "dino = \"Heterodontosaurus\"\r\n",
        "print(dino.find(\"dont\"))\r\n",
        "print(dino.find(\"z\"))"
      ],
      "execution_count": null,
      "outputs": []
    },
    {
      "cell_type": "code",
      "metadata": {
        "id": "1bQ4UlTAPBrW"
      },
      "source": [
        "#below, use find() to find where \"e\" first appears in the string\r\n",
        "string = \"Pristiophorus schroederi\""
      ],
      "execution_count": null,
      "outputs": []
    },
    {
      "cell_type": "code",
      "metadata": {
        "id": "9_EXEqc9IwKT"
      },
      "source": [
        "#strip() returns the string without spaces before or after (without modifying the original string)\r\n",
        "dino = \"    Vulcanodon   \"\r\n",
        "print(dino.strip())\r\n",
        "\r\n",
        "#strip() can also be used to remove characters before and after a string \r\n",
        "#if you specify characters in the parenthesis after strip\r\n",
        "dino = \"abababttttttabbtttabirritatorbababababattttttbbtttababababba\"\r\n",
        "print(dino.strip(\"abt\"))"
      ],
      "execution_count": null,
      "outputs": []
    },
    {
      "cell_type": "code",
      "metadata": {
        "id": "0u_A51IaQCva"
      },
      "source": [
        "#below, use strip() to print the word without the letters surrounding it\r\n",
        "word = \"abcbacabcabcbacbacbacbabcbacbcbbacbabcbabcbabcbacbcbcbcbheybcbacbabcbacbacbbcbabcbcabacbcbbacbcababcbcbc\"\r\n",
        "print(word.strip(\"abc\"))"
      ],
      "execution_count": null,
      "outputs": []
    },
    {
      "cell_type": "markdown",
      "metadata": {
        "id": "AQlqvoS0_Wk7"
      },
      "source": [
        "##### **Lists**"
      ]
    },
    {
      "cell_type": "markdown",
      "metadata": {
        "id": "X7CE2Zsk_5cF"
      },
      "source": [
        "Lists are used to store a collection of data. They have a certain order, the values of items inside the list can be changed, and lists can have duplicate values."
      ]
    },
    {
      "cell_type": "code",
      "metadata": {
        "id": "6HlfZPPT_gS3"
      },
      "source": [
        "string_list = [\"list\", \"of\", \"strings\"]\r\n",
        "\r\n",
        "# get the variable value\r\n",
        "print(string_list)\r\n",
        "\r\n",
        "# get the variable type\r\n",
        "type(string_list)"
      ],
      "execution_count": null,
      "outputs": []
    },
    {
      "cell_type": "code",
      "metadata": {
        "id": "VJ165J_XC5pX"
      },
      "source": [
        "mixed_list = [\"Hello\", \"World\", 1.5, \"!\", 100, [\"hi\", \"list inside a list\"]]\r\n",
        "\r\n",
        "# get the variable value\r\n",
        "print(mixed_list)\r\n",
        "\r\n",
        "# get the variable type\r\n",
        "type(mixed_list)"
      ],
      "execution_count": null,
      "outputs": []
    },
    {
      "cell_type": "markdown",
      "metadata": {
        "id": "AM-CZ2rMEihl"
      },
      "source": [
        "You can also access list elements. Keep in mind that the first item in a list has an index of 0."
      ]
    },
    {
      "cell_type": "code",
      "metadata": {
        "id": "TFJu9cM6EEQO"
      },
      "source": [
        "# to access list items:\r\n",
        "\r\n",
        "# get the first element\r\n",
        "print(mixed_list[0])\r\n",
        "\r\n",
        "# get the last 2 elements\r\n",
        "print(mixed_list[-2:])\r\n",
        "\r\n",
        "# get the first 3 elements\r\n",
        "print(mixed_list[:3])"
      ],
      "execution_count": null,
      "outputs": []
    },
    {
      "cell_type": "code",
      "metadata": {
        "id": "ngKxuqiAHw8o"
      },
      "source": [
        "# to modify list items:\r\n",
        "print(\"previous value: \" + mixed_list[0])\r\n",
        "mixed_list[0] = \"Hi\"\r\n",
        "print(\"new value: \" + mixed_list[0])\r\n",
        "\r\n",
        "# to add items to lists:\r\n",
        "print(mixed_list)\r\n",
        "mixed_list.append(\"new value\")\r\n",
        "print(mixed_list)"
      ],
      "execution_count": null,
      "outputs": []
    },
    {
      "cell_type": "code",
      "metadata": {
        "id": "vWPAJJrnQsPH"
      },
      "source": [
        "# Try it:\r\n",
        "\r\n",
        "# Create a new list named my_friends and include at least 4 friends.\r\n",
        "\r\n",
        "\r\n",
        "# Access the 3rd friend in the list (remember list indexes start from 0).\r\n",
        "\r\n",
        "\r\n",
        "# Get the last 3 friends in the list.\r\n",
        "\r\n",
        "\r\n",
        "# Add a friend to the list\r\n"
      ],
      "execution_count": null,
      "outputs": []
    },
    {
      "cell_type": "markdown",
      "metadata": {
        "id": "wdzVxaCb_aF6"
      },
      "source": [
        "##### **Dictionaries**"
      ]
    },
    {
      "cell_type": "markdown",
      "metadata": {
        "id": "N3yjy1xoGl1J"
      },
      "source": [
        "Dictionaries are also used to store a collection of data. Contrast to lists, dictionary values can be accessed through a key. The values can be changed, but there cannot be duplicate key values."
      ]
    },
    {
      "cell_type": "code",
      "metadata": {
        "id": "US2FumVsHEe2"
      },
      "source": [
        "person_dict = {\r\n",
        "    \"first_name\": \"John\",\r\n",
        "    \"last_name\": \"Doe\",\r\n",
        "    \"age\": 14,\r\n",
        "    \"hobby\": \"programming\"\r\n",
        "}\r\n",
        "\r\n",
        "# get the variable value\r\n",
        "print(person_dict)\r\n",
        "\r\n",
        "# get the variable type\r\n",
        "type(person_dict)"
      ],
      "execution_count": null,
      "outputs": []
    },
    {
      "cell_type": "code",
      "metadata": {
        "id": "6vwza7wnHkyv"
      },
      "source": [
        "# to access dictionary values:\r\n",
        "\r\n",
        "# get the value of first_name\r\n",
        "print(person_dict[\"first_name\"])"
      ],
      "execution_count": null,
      "outputs": []
    },
    {
      "cell_type": "code",
      "metadata": {
        "id": "bX4Iqc3tH_lO"
      },
      "source": [
        "# to modify dictionary values:\r\n",
        "print(\"old age: \" + person_dict[\"hobby\"])\r\n",
        "person_dict[\"hobby\"] = \"programming in Python\"\r\n",
        "print(\"new age: \" + person_dict[\"hobby\"])\r\n",
        "\r\n",
        "# to add dictionary keys and values:\r\n",
        "print(person_dict)\r\n",
        "person_dict[\"new_key\"] = \"new value\"\r\n",
        "print(person_dict)"
      ],
      "execution_count": null,
      "outputs": []
    },
    {
      "cell_type": "code",
      "metadata": {
        "id": "V4N9QDzNRWL_"
      },
      "source": [
        "# Try it:\r\n",
        "\r\n",
        "# Create a new dictionary named favorite_book and create keys and values for the title, author, and characters.\r\n",
        "\r\n",
        "\r\n",
        "# Add a new key and value for the number of pages in the book\r\n"
      ],
      "execution_count": null,
      "outputs": []
    },
    {
      "cell_type": "markdown",
      "metadata": {
        "id": "snCHm8iBVWtp"
      },
      "source": [
        "### Type Casting"
      ]
    },
    {
      "cell_type": "markdown",
      "metadata": {
        "id": "I_3VwkJvVbe-"
      },
      "source": [
        "You may need to convert between two different variable types to, for example, concatenate a string and integer. Converting between data types is called type casting."
      ]
    },
    {
      "cell_type": "code",
      "metadata": {
        "id": "d-spNbVbVjB4"
      },
      "source": [
        "# int to string\r\n",
        "x = 10\r\n",
        "\r\n",
        "print(type(x))\r\n",
        "x = str(x) # conversion to string\r\n",
        "\r\n",
        "print(x)\r\n",
        "print(type(x))"
      ],
      "execution_count": null,
      "outputs": []
    },
    {
      "cell_type": "code",
      "metadata": {
        "id": "PNfA9ft3V6Kh"
      },
      "source": [
        "# string to int\r\n",
        "y = \"10\"\r\n",
        "\r\n",
        "print(type(y))\r\n",
        "y = int(y) # conversion to int\r\n",
        "\r\n",
        "print(y)\r\n",
        "print(type(y))"
      ],
      "execution_count": null,
      "outputs": []
    },
    {
      "cell_type": "code",
      "metadata": {
        "id": "1rFWtvuXV7AQ"
      },
      "source": [
        "# int to float\r\n",
        "z = 50\r\n",
        "\r\n",
        "print(type(z))\r\n",
        "z = float(z) # conversion to float\r\n",
        "\r\n",
        "print(z)\r\n",
        "print(type(z))"
      ],
      "execution_count": null,
      "outputs": []
    },
    {
      "cell_type": "code",
      "metadata": {
        "id": "FHUPQ8ZmWi_x"
      },
      "source": [
        "# float to int\r\n",
        "w = 2.8\r\n",
        "\r\n",
        "print(type(w))\r\n",
        "w = int(w) # conversion to int\r\n",
        "\r\n",
        "# Notice the float is always rounded down\r\n",
        "print(w)\r\n",
        "print(type(w))"
      ],
      "execution_count": null,
      "outputs": []
    },
    {
      "cell_type": "code",
      "metadata": {
        "id": "h7Jt1uw7WnS4"
      },
      "source": [
        "# Try it:\r\n",
        "\r\n",
        "# Convert the following to an integer:\r\n",
        "a = 59.2\r\n",
        "\r\n",
        "# Convert the following to a string:\r\n",
        "b = 5.5\r\n",
        "\r\n",
        "# Convert the following to a float:\r\n",
        "c = 40"
      ],
      "execution_count": null,
      "outputs": []
    },
    {
      "cell_type": "markdown",
      "metadata": {
        "id": "-stfMDii4-Jj"
      },
      "source": [
        "### Operators"
      ]
    },
    {
      "cell_type": "markdown",
      "metadata": {
        "id": "jShKlCAI3wJE"
      },
      "source": [
        "Operators are used to assign values to variables, compare values, and do math."
      ]
    },
    {
      "cell_type": "markdown",
      "metadata": {
        "id": "2-4RDwD3Fbud"
      },
      "source": [
        "##### Math Operators"
      ]
    },
    {
      "cell_type": "code",
      "metadata": {
        "id": "GMgEfdIN5eUs"
      },
      "source": [
        "# Here are a few math operators\r\n",
        "\r\n",
        "x = 5\r\n",
        "y = 7\r\n",
        "\r\n",
        "# addition (+)\r\n",
        "print(x + y)\r\n",
        "\r\n",
        "# subtraction (-)\r\n",
        "print(x - y)\r\n",
        "\r\n",
        "# multiplication (*)\r\n",
        "print(x * y)\r\n",
        "\r\n",
        "# division (/)\r\n",
        "print (y / x)\r\n",
        "\r\n",
        "# modulus (%) (returns remainder)\r\n",
        "print(y % x)\r\n",
        "\r\n",
        "# exponents (**)\r\n",
        "print(x ** y)\r\n",
        "\r\n",
        "# floor division (//) (rounds down)\r\n",
        "print(y // x)"
      ],
      "execution_count": null,
      "outputs": []
    },
    {
      "cell_type": "code",
      "metadata": {
        "id": "mZ-pgJrC8BM8"
      },
      "source": [
        "# Try it:\r\n",
        "x = 50\r\n",
        "y = 3\r\n",
        "\r\n",
        "# Divide x by y\r\n",
        "\r\n",
        "\r\n",
        "# Add x and y\r\n",
        "\r\n",
        "\r\n",
        "# Subtract y from x\r\n"
      ],
      "execution_count": null,
      "outputs": []
    },
    {
      "cell_type": "markdown",
      "metadata": {
        "id": "YYIH7N1RFXx1"
      },
      "source": [
        "##### Assignment Operators"
      ]
    },
    {
      "cell_type": "code",
      "metadata": {
        "id": "07J_ge_i8MtD"
      },
      "source": [
        "# Here are a few assignment operators\r\n",
        "\r\n",
        "# +=\r\n",
        "a = 24\r\n",
        "a += 10 # same as a = a + 10\r\n",
        "print(a)\r\n",
        "\r\n",
        "# -=\r\n",
        "b = 24\r\n",
        "b -= 7 # same as a = a - 10\r\n",
        "print(b)\r\n",
        "\r\n",
        "# *=\r\n",
        "c = 3\r\n",
        "c *= 4 # same as a = a * 10\r\n",
        "print(c)\r\n",
        "\r\n",
        "# /=\r\n",
        "d = 6\r\n",
        "d /= 2 # same as a = a / 10\r\n",
        "print(d)\r\n",
        "\r\n",
        "# %=\r\n",
        "e = 7\r\n",
        "e %= 3 # same as a = a % 10\r\n",
        "print(e)\r\n",
        "\r\n",
        "# **=\r\n",
        "f = 2\r\n",
        "f **= 3 # same as a = a ** 10\r\n",
        "print(f)\r\n",
        "\r\n",
        "# //=\r\n",
        "g = 5\r\n",
        "g //= 2 # same as a = a // 10\r\n",
        "print(g)"
      ],
      "execution_count": null,
      "outputs": []
    },
    {
      "cell_type": "code",
      "metadata": {
        "id": "TBh_20zjA0--"
      },
      "source": [
        "# Try it:\r\n",
        "\r\n",
        "x = 50\r\n",
        "\r\n",
        "# Subtract 10 from x\r\n",
        "\r\n",
        "# Divide x by 2\r\n",
        "\r\n",
        "# Exponentiate x to the 2nd power\r\n"
      ],
      "execution_count": null,
      "outputs": []
    },
    {
      "cell_type": "markdown",
      "metadata": {
        "id": "m9VQwErGFPRm"
      },
      "source": [
        "##### Comparison Operators"
      ]
    },
    {
      "cell_type": "code",
      "metadata": {
        "id": "HOGhN5HJEFJm"
      },
      "source": [
        "# Here are a few comparison operators\r\n",
        "\r\n",
        "x = 50\r\n",
        "y = 25\r\n",
        "\r\n",
        "string_1 = \"I'm a string\"\r\n",
        "string_2 = \"I'm a string\"\r\n",
        "\r\n",
        "# == (equal comparison)\r\n",
        "print(x == y) # returns False\r\n",
        "print(string_1 == string_2) # returns True\r\n",
        "\r\n",
        "# != (not equal comparison)\r\n",
        "print(x != y) # returns True\r\n",
        "\r\n",
        "# > (greater than)\r\n",
        "print(x > y) # returns True\r\n",
        "\r\n",
        "# < (less than)\r\n",
        "print(x < y) # returns False\r\n",
        "\r\n",
        "# >= (greater than or equal to)\r\n",
        "print(x >= y) # returns True\r\n",
        "\r\n",
        "# <= (less than or equal to)\r\n",
        "print(x <= y) # returns False"
      ],
      "execution_count": null,
      "outputs": []
    },
    {
      "cell_type": "code",
      "metadata": {
        "id": "qg2ivHuWE9kO"
      },
      "source": [
        "# Try it:\r\n",
        "\r\n",
        "x = 25\r\n",
        "y = 25\r\n",
        "\r\n",
        "# Check whether x and y are equal\r\n",
        "\r\n",
        "# Check whether x is greater than y\r\n",
        "\r\n",
        "# Check whether x is less than or equal to y\r\n"
      ],
      "execution_count": null,
      "outputs": []
    },
    {
      "cell_type": "markdown",
      "metadata": {
        "id": "A_qHwpBQGGQv"
      },
      "source": [
        "##### Logical Operators"
      ]
    },
    {
      "cell_type": "code",
      "metadata": {
        "id": "Ry4SbwoQGFpe"
      },
      "source": [
        "# Here are a few logical operators\r\n",
        "\r\n",
        "x = 5\r\n",
        "y = 6\r\n",
        "\r\n",
        "# not\r\n",
        "print(not x == 5) # returns False\r\n",
        "\r\n",
        "# and\r\n",
        "print(x > 6 and y > 4) # returns False\r\n",
        "print(x < 6 and y > 4) # returns True\r\n",
        "\r\n",
        "# or\r\n",
        "print(x > 6 or y > 4) # returns True\r\n",
        "\r\n",
        "string_1 = \"hi\"\r\n",
        "string_2 = \"hello\"\r\n",
        "\r\n",
        "print(string_1 > string_2)"
      ],
      "execution_count": null,
      "outputs": []
    },
    {
      "cell_type": "code",
      "metadata": {
        "id": "czool553G-TN"
      },
      "source": [
        "# Try it:\r\n",
        "\r\n",
        "a = 2\r\n",
        "b = 8\r\n",
        "\r\n",
        "# Check whether a is less than 1 OR b is less than 7\r\n",
        "\r\n",
        "# Check whether a is equal to b and reverse the result\r\n",
        "\r\n",
        "# Check whether a is not equal to b AND a is less than or equal to b\r\n"
      ],
      "execution_count": null,
      "outputs": []
    },
    {
      "cell_type": "markdown",
      "metadata": {
        "id": "NN6NNZR5LhsI"
      },
      "source": [
        "# **DAY 2**"
      ]
    },
    {
      "cell_type": "markdown",
      "metadata": {
        "id": "jnDy06rGItKi"
      },
      "source": [
        "# **Introduction to Conditionals**"
      ]
    },
    {
      "cell_type": "markdown",
      "metadata": {
        "id": "T4dBk13aP50T"
      },
      "source": [
        "**What are conditionals?**\r\n",
        "Conditionals are types of *control structures,* which evaluate information on the fly and then take a course of action based on that. \r\n",
        "\r\n",
        "Think of conditionals as a sort of crossroads: you have multiple paths that lead to different destinations or outcomes. \r\n"
      ]
    },
    {
      "cell_type": "markdown",
      "metadata": {
        "id": "SB_N_sqxRCxC"
      },
      "source": [
        "Here is an example of a real-life conditional: \"If it is sunny outside, then I \r\n",
        "will go on a walk.\" \r\n",
        "\r\n",
        "\r\n",
        "*  So, if the statement \"It is sunny outside\" is **true**, THEN I will go on a walk. \r\n",
        "*   If the statement is **false**, I will NOT go on a walk. \r\n",
        "\r\n"
      ]
    },
    {
      "cell_type": "markdown",
      "metadata": {
        "id": "CAxv8lnhROBf"
      },
      "source": [
        "There are **three main conditionals**  in Python:\r\n",
        "`if`, `elif`, and `else`. Let's take a look at each of them. "
      ]
    },
    {
      "cell_type": "markdown",
      "metadata": {
        "id": "PZpvt43uIyiO"
      },
      "source": [
        "## **`if` Statements**"
      ]
    },
    {
      "cell_type": "markdown",
      "metadata": {
        "id": "4cQVGbljRbly"
      },
      "source": [
        "An **if statement** uses the `if` keyword. Take a look at the code below:\r\n",
        "\r\n"
      ]
    },
    {
      "cell_type": "code",
      "metadata": {
        "id": "Ogvf9K88Ro4G"
      },
      "source": [
        "fruit = \"banana\"\r\n",
        "if fruit == \"banana\":\r\n",
        "  print(\"It's a banana!\")"
      ],
      "execution_count": null,
      "outputs": []
    },
    {
      "cell_type": "markdown",
      "metadata": {
        "id": "5H3kHF-iTGU1"
      },
      "source": [
        "Because the value of the variable `fruit` is \"banana,\" (the condition is TRUE) the program prints \"It's a banana!\" to the console. \r\n",
        "\r\n",
        "Let's try **changing** the value of `fruit` above and see what happens. "
      ]
    },
    {
      "cell_type": "code",
      "metadata": {
        "id": "DbtZkqEcTcjs"
      },
      "source": [
        "fruit = \"orange\"\r\n",
        "if fruit == \"banana\":\r\n",
        "  print(\"It's a banana!\")"
      ],
      "execution_count": null,
      "outputs": []
    },
    {
      "cell_type": "markdown",
      "metadata": {
        "id": "dxrmg0_WTjs1"
      },
      "source": [
        "And... nothing is printed to the screen! Exactly what was expected. Because the conditional is FALSE, the program ignores the `print` statement, AND the phrase \"It's a banana!\" is *not* printed to the screen, and\r\n",
        "\r\n",
        "So, the code under an `if` block is ONLY executed if the conditional is true.\r\n",
        "\r\n",
        "Remember, use **two** equal signs to compare values!"
      ]
    },
    {
      "cell_type": "markdown",
      "metadata": {
        "id": "flKHJfCc3YpC"
      },
      "source": [
        "**Exercise 1:** Write a program that asks the user for a number via the `input()` function. \r\n",
        "\r\n",
        "\r\n",
        "* If the number is even, print \"The number is even.\"\r\n",
        "\r\n"
      ]
    },
    {
      "cell_type": "code",
      "metadata": {
        "id": "JDi5eiD93YJd"
      },
      "source": [
        "# Write your code here. "
      ],
      "execution_count": null,
      "outputs": []
    },
    {
      "cell_type": "markdown",
      "metadata": {
        "id": "gdz_HbioDG4M"
      },
      "source": [
        "**Exercise 2:** Write a program which returns the decimal part of a number. If decimal part is zero, the program should return this string: \"integer\".\r\n",
        "\r\n"
      ]
    },
    {
      "cell_type": "code",
      "metadata": {
        "id": "GVF97oxUDYPT"
      },
      "source": [
        "# Write your code here. "
      ],
      "execution_count": null,
      "outputs": []
    },
    {
      "cell_type": "markdown",
      "metadata": {
        "id": "di0AxY-wJEBO"
      },
      "source": [
        "## **`Else` Statements**"
      ]
    },
    {
      "cell_type": "markdown",
      "metadata": {
        "id": "q7vMAFmDU6_i"
      },
      "source": [
        "Let's move on to `else` statements. \r\n",
        "\r\n",
        "`Else` statements are used *in addition to* if statements. The code under an `else` block is executed if the conditional is false. \r\n",
        "\r\n",
        "Let's add on to our exercise from before. How would we use `else` statements to print when a number is odd?"
      ]
    },
    {
      "cell_type": "code",
      "metadata": {
        "id": "J-fkdS5BIlXs"
      },
      "source": [
        "number = input(\"Enter a number: \")\r\n",
        "if int(number) % 2 == 0:\r\n",
        "  print(\"The number \" + number + \" is even.\")\r\n",
        "else:\r\n",
        "  print(\"The number \" + number + \" is odd.\")\r\n"
      ],
      "execution_count": null,
      "outputs": []
    },
    {
      "cell_type": "markdown",
      "metadata": {
        "id": "MtqKVTtkIHz4"
      },
      "source": [
        "**Exercise 3:** Write a program that asks for the user's name via the `input()` function. \r\n",
        "\r\n",
        "\r\n",
        "*   If the name is \"Bond,\" make it print \"Welcome on board, 007.\" \r\n",
        "*   Otherwise, make it print \"Good morning NAME\". (replace \"NAME\" with the user's name)"
      ]
    },
    {
      "cell_type": "code",
      "metadata": {
        "id": "W3-Jah_42zSz"
      },
      "source": [
        "# Write your code here."
      ],
      "execution_count": null,
      "outputs": []
    },
    {
      "cell_type": "markdown",
      "metadata": {
        "id": "856lBvq8JLZT"
      },
      "source": [
        "## **`Elif` Statements**"
      ]
    },
    {
      "cell_type": "markdown",
      "metadata": {
        "id": "cuiL49XODnt9"
      },
      "source": [
        "Let's move on to `elif` statements. \r\n",
        "\r\n",
        "* The `elif` is short for \"else if.\" It allows us to check for multiple conditions.\r\n",
        "* If the condition in the `if` block is False, the program checks the condition of the next `elif` block and so on.\r\n",
        "* If all the conditions are False, the body of `else` is executed.\r\n",
        "* Only one block among the several `if...elif...else` blocks is executed according to the condition.\r\n",
        "* The `if` block can have only **one** `else` block. But it can have **multiple** `elif` blocks."
      ]
    },
    {
      "cell_type": "markdown",
      "metadata": {
        "id": "bUlLC8h-EoLT"
      },
      "source": [
        "Back to our example with even and odd numbers. Instead of even and odd, let's check for positive and negative numbers. \r\n",
        "\r\n",
        "Check out the code below:"
      ]
    },
    {
      "cell_type": "code",
      "metadata": {
        "id": "Vi4mnNRIE0q7"
      },
      "source": [
        "number = input(\"Enter a number: \")\r\n",
        "if int(number) < 0:\r\n",
        "  print(\"The number \" + number + \" is negative.\")\r\n",
        "elif int(number) > 0:\r\n",
        "  print(\"The number \" + number + \" is positive.\")\r\n",
        "else:\r\n",
        "  print(\"The number is equal to 0.\")\r\n"
      ],
      "execution_count": null,
      "outputs": []
    },
    {
      "cell_type": "markdown",
      "metadata": {
        "id": "vWKTuOg4FIFa"
      },
      "source": [
        "**Exercise 4:** A school has the following rules for the grading system:\r\n",
        "* Below 65 - F\r\n",
        "* 65 to 70 - D\r\n",
        "* 70 to 80 - C\r\n",
        "* 80 to 90 - B\r\n",
        "* 90 to 100 - A\r\n",
        "* Above 100 - A+\r\n",
        "\r\n",
        "Write a program that asks the user to enter their numerical grade. Using that number, print out the corresponding letter grade. \r\n",
        "\r\n"
      ]
    },
    {
      "cell_type": "code",
      "metadata": {
        "id": "BDWvcTRcGU09"
      },
      "source": [
        "# Write your code here. "
      ],
      "execution_count": null,
      "outputs": []
    },
    {
      "cell_type": "markdown",
      "metadata": {
        "id": "MAmO5SfGJbw7"
      },
      "source": [
        "## **Nested Conditional Statements**"
      ]
    },
    {
      "cell_type": "markdown",
      "metadata": {
        "id": "gK4nwTFqGZ3M"
      },
      "source": [
        "Just like loops, conditional statements can be **nested.** Check out the following example below: "
      ]
    },
    {
      "cell_type": "code",
      "metadata": {
        "id": "hKfUwqQsGrKF"
      },
      "source": [
        "total = 100\r\n",
        "# country = \"US\"\r\n",
        "country = \"AU\"\r\n",
        "\r\n",
        "if country == \"US\":\r\n",
        "  if total <= 50:\r\n",
        "    print(\"Shipping Cost is  $50\")\r\n",
        "elif total <= 100:\r\n",
        "  print(\"Shipping Cost is $25\")\r\n",
        "elif total <= 150:\r\n",
        "  print(\"Shipping Cost is $5\")\r\n",
        "else:\r\n",
        "  print(\"Shipping is free!\")\r\n",
        "\r\n",
        "\r\n",
        "if country == \"AU\": \r\n",
        "  if total <= 50:\r\n",
        "    print(\"Shipping Cost is  $100\")\r\n",
        "else:\r\n",
        "  print(\"FREE\")"
      ],
      "execution_count": null,
      "outputs": []
    },
    {
      "cell_type": "markdown",
      "metadata": {
        "id": "pac9yKsqH709"
      },
      "source": [
        "**Exercise 5:** Imagine the user is at a theme park that has both a height and age requirement for the scariest ride, called \"The Terror.\" \r\n",
        "\r\n",
        "Riders must be **at least** 13 years old and 5 feet tall to participate. \r\n",
        "\r\n",
        "Fortunately, there are substitutes for the riders who do not fit one or both of these requirements.\r\n",
        "\r\n",
        "\r\n",
        "* If the user is 13 years old **but** not 5 feet tall, they can go to the haunted house. \r\n",
        "* If the user is 5 feet tall **but** not 13 years old, they ride rollercoaster. \r\n",
        "* If the user is **neither** 13 years old nor 5 feet tall, they ride the Ferris Wheel. \r\n",
        "\r\n",
        "\r\n",
        "\r\n",
        "Write a program that checks for both of these requirements and assigns the correct ride using nested conditional statements. "
      ]
    },
    {
      "cell_type": "code",
      "metadata": {
        "id": "E7N8PMR4J_DN"
      },
      "source": [
        "# Write your code here."
      ],
      "execution_count": null,
      "outputs": []
    },
    {
      "cell_type": "markdown",
      "metadata": {
        "id": "UCIH2_YNGMhK"
      },
      "source": [
        "# Loops"
      ]
    },
    {
      "cell_type": "markdown",
      "metadata": {
        "id": "pYIb89BWIxOy"
      },
      "source": [
        "## While Loops"
      ]
    },
    {
      "cell_type": "markdown",
      "metadata": {
        "id": "JHxQ9MTQPiPq"
      },
      "source": [
        "A while loop repeats the code inside the loop while a certain condition is true. For example, the loop below prints the value of the variable while it is less than ten, then increments it by one."
      ]
    },
    {
      "cell_type": "code",
      "metadata": {
        "id": "H7Q359xgPB7o"
      },
      "source": [
        "num = 0\r\n",
        "while num < 10:\r\n",
        "  print (num)\r\n",
        "  num += 1\r\n"
      ],
      "execution_count": null,
      "outputs": []
    },
    {
      "cell_type": "markdown",
      "metadata": {
        "id": "DXXt_l8tt9ZX"
      },
      "source": [
        "Try to write your own while loop that prints all odd numbers from one to seven (including seven) in the box below."
      ]
    },
    {
      "cell_type": "code",
      "metadata": {
        "id": "oQcUYPTsuLWF"
      },
      "source": [
        "#code here!"
      ],
      "execution_count": null,
      "outputs": []
    },
    {
      "cell_type": "markdown",
      "metadata": {
        "id": "iEZHJcoNk2Km"
      },
      "source": [
        "A break statement will stop a while loop even if the while condition is true. For example, the loop below will only execute the code inside once before stopping."
      ]
    },
    {
      "cell_type": "code",
      "metadata": {
        "id": "zSxFLgnqphH9"
      },
      "source": [
        "num = 3\r\n",
        "while num <= 17:\r\n",
        "  print (num)\r\n",
        "  num += 4\r\n",
        "  break"
      ],
      "execution_count": null,
      "outputs": []
    },
    {
      "cell_type": "markdown",
      "metadata": {
        "id": "HyiUZseLqWU7"
      },
      "source": [
        "You can also use an if statement to cause the loop to break once a certain condition is true. For example, the loop below will break if num equals 6. Run it to see what it prints."
      ]
    },
    {
      "cell_type": "code",
      "metadata": {
        "id": "kogd9eqfqkDa"
      },
      "source": [
        "num = 0\r\n",
        "while num < 20:\r\n",
        "  print (num)\r\n",
        "  num += 2\r\n",
        "  if num == 6:\r\n",
        "    break"
      ],
      "execution_count": null,
      "outputs": []
    },
    {
      "cell_type": "markdown",
      "metadata": {
        "id": "pC_x0vCgrcS2"
      },
      "source": [
        "Modify the loop below so it prints all integers from one to 6 (including six)"
      ]
    },
    {
      "cell_type": "code",
      "metadata": {
        "id": "OnAuzyllru3S"
      },
      "source": [
        "num = 1\r\n",
        "while num < 10:\r\n",
        "  print (num)\r\n",
        "  num += 1\r\n",
        "  if num == 3:\r\n",
        "    break"
      ],
      "execution_count": null,
      "outputs": []
    },
    {
      "cell_type": "markdown",
      "metadata": {
        "id": "9jW4DaFNtl6X"
      },
      "source": [
        "The continue statement can be used to stop an interation of a loop and continue with the next iteration. For example, the loop below prints all multiples of two from 0 to 34 (inclusive), skipping those that are also multiples of six."
      ]
    },
    {
      "cell_type": "code",
      "metadata": {
        "id": "nzI_JXTjufNN"
      },
      "source": [
        "i = 0\r\n",
        "while i < 36:\r\n",
        "  i += 2\r\n",
        "  if i%6 == 0:\r\n",
        "    continue\r\n",
        "  print(i)\r\n",
        "  "
      ],
      "execution_count": null,
      "outputs": []
    },
    {
      "cell_type": "markdown",
      "metadata": {
        "id": "OJwkPm9ywmea"
      },
      "source": [
        "Add a continue statement to the loop below so that it prints only odd numbers"
      ]
    },
    {
      "cell_type": "code",
      "metadata": {
        "id": "ZG7mcSjJwzYF"
      },
      "source": [
        "i = 0\r\n",
        "while i < 36:\r\n",
        "  i += 1\r\n",
        "  print(i)"
      ],
      "execution_count": null,
      "outputs": []
    },
    {
      "cell_type": "markdown",
      "metadata": {
        "id": "ymeJH2psxilu"
      },
      "source": [
        "An else statement will execute a given code segment after the loop ends. (Note: the else statement will not be executed if the loop is ended by a break statement) For example:"
      ]
    },
    {
      "cell_type": "code",
      "metadata": {
        "id": "RUKx8ZmlyHN9"
      },
      "source": [
        "num = 3\r\n",
        "while num <= 17:\r\n",
        "  print (num)\r\n",
        "  num += 2\r\n",
        "else:\r\n",
        "  print (\"Num is greater than seventeen\")\r\n",
        "  "
      ],
      "execution_count": null,
      "outputs": []
    },
    {
      "cell_type": "markdown",
      "metadata": {
        "id": "NamJzXAjJA8j"
      },
      "source": [
        "## For Loops"
      ]
    },
    {
      "cell_type": "markdown",
      "metadata": {
        "id": "200uLWYeTKCl"
      },
      "source": [
        "A for loop iterates through a sequence, excecuting the code in the loop for each item in the sequence. You can use a for loop to loop through each character in a string, or each item in a list, each key in a dictionary, etc. For example, the loop below prints each item in the list. "
      ]
    },
    {
      "cell_type": "code",
      "metadata": {
        "id": "U4C_ZP5mVeFD"
      },
      "source": [
        "dinosaurs = [\"Diplodocus\", \"Coelophysis\", \"Cedarpelta\", \"Aralosaurus\", \"Carnotaurus\", \"Garudimimus\"]\r\n",
        "for dino in dinosaurs:\r\n",
        "  print(dino)"
      ],
      "execution_count": null,
      "outputs": []
    },
    {
      "cell_type": "markdown",
      "metadata": {
        "id": "MzVe3Ct-z6v1"
      },
      "source": [
        "Add a for loop to the code below that prints each character in statement."
      ]
    },
    {
      "cell_type": "code",
      "metadata": {
        "id": "nIdkQQK_0DJI"
      },
      "source": [
        "statement = \"Dinosaurs are groovy!\"\r\n"
      ],
      "execution_count": null,
      "outputs": []
    },
    {
      "cell_type": "markdown",
      "metadata": {
        "id": "LHUi_AB9zrlx"
      },
      "source": [
        "Break, continue, and else statements work the same when used with for loops as they do when used with while loops. For example, the loop below prints every item in the list sharks that is a kind of shark, then prints a statement at the end."
      ]
    },
    {
      "cell_type": "code",
      "metadata": {
        "id": "FXpLCkRd3UK2"
      },
      "source": [
        "sharks = [\"great white\", \"bull\", \"loggerhead\", \"greenland\", \"zebra\", \"nurse\", \"spinner\", \"whitetip\", \"lemon\"]\r\n",
        "for shark in sharks:\r\n",
        "  if shark == \"loggerhead\":\r\n",
        "    continue\r\n",
        "  print (shark)\r\n",
        "else:\r\n",
        "  print (\"A loggerhead isn't a species of shark, it's a seaturtle!\")"
      ],
      "execution_count": null,
      "outputs": []
    },
    {
      "cell_type": "markdown",
      "metadata": {
        "id": "iEIKeqpK2FZq"
      },
      "source": [
        "Write a for loop below that prints all letters in alphabet that are consonants.\r\n"
      ]
    },
    {
      "cell_type": "code",
      "metadata": {
        "id": "iv12HnTO4XGB"
      },
      "source": [
        "alphabet = \"abcdefghijklmnopqrstuvwyz\""
      ],
      "execution_count": null,
      "outputs": []
    },
    {
      "cell_type": "markdown",
      "metadata": {
        "id": "gj35M00i6lOO"
      },
      "source": [
        "You can use the pass statement if you need to have an empty for loop without getting an error. For example: \r\n"
      ]
    },
    {
      "cell_type": "code",
      "metadata": {
        "id": "-KsJNldk7RpZ"
      },
      "source": [
        "sharks = [\"great white\", \"bull\", \"greenland\", \"zebra\", \"nurse\", \"spinner\", \"whitetip\", \"lemon\"]\r\n",
        "for shark in sharks:\r\n",
        "  pass"
      ],
      "execution_count": null,
      "outputs": []
    },
    {
      "cell_type": "markdown",
      "metadata": {
        "id": "-5Ul4m-K7pQX"
      },
      "source": [
        "You can use the range() funciton in a for loop to loop a specified number of times. range() takes the form range([starting value(will be inclusive, default is 0)], [ending value (noninclusive)], [increment value (default is 0]) For example, both loops below will print the same values. Note that they loop seven times, but don't print the ending value (seven). "
      ]
    },
    {
      "cell_type": "code",
      "metadata": {
        "id": "o72DSUv0EOiT"
      },
      "source": [
        "print(\"first loop:\")\r\n",
        "for x in range(0, 7, 1):\r\n",
        "  print(x)\r\n",
        "\r\n",
        "print(\"second loop\")\r\n",
        "for x in range(7):\r\n",
        "  print(x)\r\n"
      ],
      "execution_count": null,
      "outputs": []
    },
    {
      "cell_type": "markdown",
      "metadata": {
        "id": "e_NdSjpHE6S6"
      },
      "source": [
        "In the box below, write a for loop using the range function that prints all multiples of three from 3 to 21(inclusive)"
      ]
    },
    {
      "cell_type": "code",
      "metadata": {
        "id": "RiCFzu5xFL3l"
      },
      "source": [
        "\r\n"
      ],
      "execution_count": null,
      "outputs": []
    },
    {
      "cell_type": "markdown",
      "metadata": {
        "id": "pltEMPG3Z81j"
      },
      "source": [
        "You can nest loops inside of each other. For each iteration of the outer loop, the inner loop will be executed. For example, the code below will print every item in the list of dinosaurs five times. "
      ]
    },
    {
      "cell_type": "code",
      "metadata": {
        "id": "UJGc9O9b75xf"
      },
      "source": [
        "for dino in dinosaurs:\r\n",
        "  i = 1\r\n",
        "  while i <= 5:\r\n",
        "    print (dino)\r\n",
        "    i += 1"
      ],
      "execution_count": null,
      "outputs": []
    },
    {
      "cell_type": "markdown",
      "metadata": {
        "id": "U0cDvfliFyat"
      },
      "source": [
        "In the box below, use nested loops to print the list of dinosours (in the same order), six times."
      ]
    },
    {
      "cell_type": "code",
      "metadata": {
        "id": "O6pZNYeOFyyX"
      },
      "source": [
        ""
      ],
      "execution_count": null,
      "outputs": []
    },
    {
      "cell_type": "markdown",
      "metadata": {
        "id": "36Gwk9-iKSiP"
      },
      "source": [
        "# Functions"
      ]
    },
    {
      "cell_type": "markdown",
      "metadata": {
        "id": "coD-yqmpZwk8"
      },
      "source": [
        "### What are functions?"
      ]
    },
    {
      "cell_type": "markdown",
      "metadata": {
        "id": "O3bfWiO_JHpB"
      },
      "source": [
        "Functions allow us to group code together and to execute all the grouped code with one call.\r\n",
        "\r\n",
        "It is good practice to make function names descriptive so that anyone reading the code knows what the function does."
      ]
    },
    {
      "cell_type": "markdown",
      "metadata": {
        "id": "i7wYPl2PZ4fC"
      },
      "source": [
        "### Defining Functions"
      ]
    },
    {
      "cell_type": "code",
      "metadata": {
        "id": "_VFNdKPyJgvj"
      },
      "source": [
        "# Define functions using the def keyword\r\n",
        "def test_function():\r\n",
        "  print(\"Hello\")\r\n",
        "\r\n",
        "# Call the function like this:\r\n",
        "test_function()"
      ],
      "execution_count": null,
      "outputs": []
    },
    {
      "cell_type": "code",
      "metadata": {
        "id": "BKS67H0sJv4u"
      },
      "source": [
        "# Functions can have return statements.\r\n",
        "def function_with_return():\r\n",
        "  return \"Hi!\"\r\n",
        "\r\n",
        "x = function_with_return()\r\n",
        "print(x)"
      ],
      "execution_count": null,
      "outputs": []
    },
    {
      "cell_type": "code",
      "metadata": {
        "id": "B_w0OPxyN8dt"
      },
      "source": [
        "# Try it:\r\n",
        "\r\n",
        "# Create and call a new function named say_something to print a string\r\n"
      ],
      "execution_count": null,
      "outputs": []
    },
    {
      "cell_type": "markdown",
      "metadata": {
        "id": "jra1XT22JZg9"
      },
      "source": [
        "### Function Parameters"
      ]
    },
    {
      "cell_type": "markdown",
      "metadata": {
        "id": "1MNJnNpPLGZe"
      },
      "source": [
        "Parameters allow information to be passed into the function. Parameters can only be accessed within the function."
      ]
    },
    {
      "cell_type": "code",
      "metadata": {
        "id": "EPg7G7QFKQ7V"
      },
      "source": [
        "# Define function parameters by including them in the function definition:\r\n",
        "def function_with_parameters(my_parameter):\r\n",
        "  print(my_parameter)\r\n",
        "\r\n",
        "# Call functions with parameters by passing a value in\r\n",
        "function_with_parameters(\"This is a parameter value\")"
      ],
      "execution_count": null,
      "outputs": []
    },
    {
      "cell_type": "code",
      "metadata": {
        "id": "NLnL4TSCKraf"
      },
      "source": [
        "# You can set default parameter values:\r\n",
        "def function_with_parameters(my_parameter=\"Default parameter value\"):\r\n",
        "  print(my_parameter)\r\n",
        "\r\n",
        "# If you omit the parameter when calling the function, the default value will be used.\r\n",
        "function_with_parameters()\r\n",
        "# Otherwise, the parameter value you passed will be used.\r\n",
        "function_with_parameters(\"My custom parameter\")"
      ],
      "execution_count": null,
      "outputs": []
    },
    {
      "cell_type": "code",
      "metadata": {
        "id": "5xMAHXZwNs5n"
      },
      "source": [
        "# Try it:\r\n",
        "\r\n",
        "# Create a new function named person with two parameters named name and age.\r\n",
        "# Create a print statement inside the function to print the name and age.\r\n",
        "# Then call the function with your own name and age as the parameters.\r\n"
      ],
      "execution_count": null,
      "outputs": []
    },
    {
      "cell_type": "markdown",
      "metadata": {
        "id": "Rn7ASTZYZ8oy"
      },
      "source": [
        "### Variable Scope"
      ]
    },
    {
      "cell_type": "markdown",
      "metadata": {
        "id": "2NAFoXhwLDtu"
      },
      "source": [
        "Variables defined inside a function cannot be accessed outside the function, but variables defined outside a function can be accessed inside the function. Variables defined outside a function can't be edited from inside the function unless the global keyword is used.\r\n",
        "\r\n",
        "It is best practice to create local variables that can only be accessed within functions as much as possible. Global variables can make code harder to manage. However, sometimes global variables are unavoidable."
      ]
    },
    {
      "cell_type": "code",
      "metadata": {
        "id": "W4BM1Sz5LBQh"
      },
      "source": [
        "# example of local scope\r\n",
        "def local_scope_function():\r\n",
        "  q = 5\r\n",
        "\r\n",
        "local_scope_function()\r\n",
        "print(q)"
      ],
      "execution_count": null,
      "outputs": []
    },
    {
      "cell_type": "code",
      "metadata": {
        "id": "WUnOvv6vMbsQ"
      },
      "source": [
        "# this is a global variable\r\n",
        "r = 5\r\n",
        "\r\n",
        "def local_scope_function_2():\r\n",
        "  # this is a local variable\r\n",
        "  # python considers this variable different from the global variable named r\r\n",
        "  r = 10\r\n",
        "\r\n",
        "print(r)\r\n",
        "local_scope_function_2()\r\n",
        "print(r)"
      ],
      "execution_count": null,
      "outputs": []
    },
    {
      "cell_type": "code",
      "metadata": {
        "id": "0qLKVlQsL5rS"
      },
      "source": [
        "r = 5\r\n",
        "\r\n",
        "def edit_global_variable():\r\n",
        "  # The global keyword is used to modify a global variable inside a function\r\n",
        "  global r\r\n",
        "  r = 10\r\n",
        "\r\n",
        "print(r)\r\n",
        "edit_global_variable()\r\n",
        "print(r)"
      ],
      "execution_count": null,
      "outputs": []
    },
    {
      "cell_type": "code",
      "metadata": {
        "id": "Op79_WePO3lQ"
      },
      "source": [
        "# Try it:\r\n",
        "\r\n",
        "v = \"Python sucks!\"\r\n",
        "\r\n",
        "def python_rocks():\r\n",
        "  # Use the global keyword and modify the variable v to say \"Python rocks!\"\r\n",
        "\r\n",
        "  return v\r\n",
        "\r\n",
        "python_rocks()"
      ],
      "execution_count": null,
      "outputs": []
    },
    {
      "cell_type": "markdown",
      "metadata": {
        "id": "tKnet2n1KvM-"
      },
      "source": [
        "# Modules"
      ]
    },
    {
      "cell_type": "markdown",
      "metadata": {
        "id": "xcIlVi5XLVKt"
      },
      "source": [
        "Think of modules as libraries of code. Modules are files containing sets of functions that you want to include in your program. \r\n",
        "\r\n",
        "*Why have custom modules? Why not define the functions in the same file as the actual program?*\r\n",
        "\r\n",
        "* Custom modules can help keep code organized and easier to read. \r\n",
        "\r\n",
        "\r\n"
      ]
    },
    {
      "cell_type": "markdown",
      "metadata": {
        "id": "3uzyQrCzL58z"
      },
      "source": [
        "To create a module, just save the code you want in a file with the file extension `.py`."
      ]
    },
    {
      "cell_type": "code",
      "metadata": {
        "id": "ZipWSaUqLOOw"
      },
      "source": [
        "def cost(country, total):\r\n",
        "  if country == \"United States\" or country == \"US\":\r\n",
        "    if total <= 50:\r\n",
        "      print(\"Shipping Cost is $50\")\r\n",
        "    elif total <= 100:\r\n",
        "      print(\"Shipping Cost is $25\")\r\n",
        "    elif total <= 150:\r\n",
        "\t    print(\"Shipping Cost is $5\")\r\n",
        "    else:\r\n",
        "        print(\"Shipping is free!\")\r\n",
        "  \r\n",
        "  elif country == \"Australia\" or country ==\"AU\": \r\n",
        "    if total <= 50:\r\n",
        "      print(\"Shipping Cost is  $100\")\r\n",
        "    else:\r\n",
        "      print(\"Shipping is free!\")\r\n",
        "  \r\n",
        "  else:\r\n",
        "    print(\"Sorry, we don't have shipping data for that country.\")"
      ],
      "execution_count": null,
      "outputs": []
    },
    {
      "cell_type": "markdown",
      "metadata": {
        "id": "hSivCcASNaH4"
      },
      "source": [
        "Let's say we want to include this shipping function in our program, but we want to keep it separate in another file and import it as a module to our actual application. \r\n"
      ]
    },
    {
      "cell_type": "markdown",
      "metadata": {
        "id": "iL9Aa-rHO_fd"
      },
      "source": [
        "## **`import`**"
      ]
    },
    {
      "cell_type": "markdown",
      "metadata": {
        "id": "GjyV8CtaOMcY"
      },
      "source": [
        "So, we'll create the function and save it in a file called, for example, `shipping.py`. \r\n",
        "\r\n",
        "Then, we can import the entire file `shipping.py` to our actual program file using the below statement at the top of our application: \r\n",
        "\r\n",
        "```\r\n",
        "import shipping\r\n",
        "```\r\n",
        "\r\n",
        "Alternative syntax (This imports all of the functions from the `shipping.py` file):\r\n",
        "```\r\n",
        "from shipping import *\r\n",
        "```\r\n",
        "\r\n",
        "\r\n",
        "You can also use this in-line reference when calling the function:\r\n",
        "\r\n",
        "\r\n",
        "```\r\n",
        "# shipping.cost(\"Country_name\", cost)\r\n",
        "```\r\n",
        "\r\n"
      ]
    },
    {
      "cell_type": "markdown",
      "metadata": {
        "id": "HVuGuKpHPEA9"
      },
      "source": [
        "## **`from _____ import ______`**"
      ]
    },
    {
      "cell_type": "markdown",
      "metadata": {
        "id": "xEbiq-W8Opeh"
      },
      "source": [
        "If you have multiple functions in your module and want to import just one, you can use the following code below: \r\n",
        "\r\n",
        "\r\n",
        "\r\n",
        "```\r\n",
        "from module_name import function_name\r\n",
        "```\r\n",
        "\r\n"
      ]
    },
    {
      "cell_type": "markdown",
      "metadata": {
        "id": "l9QmkV36QXsy"
      },
      "source": [
        "## **`import _______ as ________`**\r\n"
      ]
    },
    {
      "cell_type": "markdown",
      "metadata": {
        "id": "aqoJ2Dv2Qchz"
      },
      "source": [
        "The `import as` statement allows users to import a file with an alias. For example:\r\n",
        "\r\n",
        "```\r\n",
        "import shipping as ship\r\n",
        "```\r\n",
        "\r\n",
        "By importing the `shipping` file as `ship`, we can now reference that file with the alias `ship` in our code. So, the below statement would be okay:\r\n",
        "\r\n",
        "```\r\n",
        "ship.cost(\"country name\", total)\r\n",
        "```\r\n",
        "\r\n"
      ]
    },
    {
      "cell_type": "markdown",
      "metadata": {
        "id": "wL2gUno0R-J0"
      },
      "source": [
        "## Common Modules in Python"
      ]
    },
    {
      "cell_type": "markdown",
      "metadata": {
        "id": "32W3nwk6Q4k6"
      },
      "source": [
        "Here's a list of common modules and functions in Python:\r\n",
        "\r\n",
        "\r\n",
        "**1. NumPy**\r\n",
        "\r\n",
        "You can do basic mathematical operations without any special Python packages. However, if you’re going to do any kind of complex math, the NumPy package will make your coding life much easier.\r\n",
        "\r\n",
        "NumPy provides tools to help build multi-dimensional arrays and perform calculations on the data stored in them. You can solve algebraic formulas, perform common statistical operations, and much more.\r\n",
        "\r\n",
        "\r\n",
        "**2. Python Imaging Library**\r\n",
        "\r\n",
        "If your Python application interacts with images in any way, the Python imaging library, also known as PIL or Pillow, is a Python must-have. It makes it easy to write code that opens, modifies, and saves images in a variety of formats.\r\n",
        "\r\n",
        "If you’re doing more advanced work with images (like image recognition, in which case OpenCV would be a good package to consider), Pillow won’t cut it on its own. But for basic image importing, manipulation, and exporting, Pillow is your go-to solution.\r\n",
        "\r\n",
        "**3. Pandas**\r\n",
        "\r\n",
        "There is a long list of Python packages designed for working with complex data sets. But arguably, Pandas is the most important. Pandas helps you manipulate and analyze large sets of data without having to learn a specialized data-processing language like R.\r\n",
        "\r\n",
        "Pandas has its limits in that it’s not intended for advanced statistical modelling (in that case, you would want to learn R, or use a Python package like statsmodels). But if you need to do things like process time-series data or perform statistical analysis on a data set, Pandas has you covered.\r\n"
      ]
    },
    {
      "cell_type": "markdown",
      "metadata": {
        "id": "mEVm_7XiTrNn"
      },
      "source": [
        "# **DAY 3**"
      ]
    },
    {
      "cell_type": "markdown",
      "metadata": {
        "id": "wmWx8dlsT-b5"
      },
      "source": [
        "Day 3 is an independent project day. We encourage you to come up with your own project idea, but here are a few beginner projects for inspiration:\r\n",
        "\r\n",
        "* [Hangman Game](https://repl.it/@ArchishmaGoli/Functional-Hangman-Game)\r\n",
        "* [Random Generator](https://repl.it/@CoraAdkins/Project-Example)\r\n",
        "* [Calculator Project](https://repl.it/@ArchishmaGoli/Calculator-Project)\r\n",
        "* [Guessing Game](https://repl.it/@BoreMore/guessing-game-1)"
      ]
    },
    {
      "cell_type": "markdown",
      "metadata": {
        "id": "oPnhq9J0Ogoc"
      },
      "source": [
        "# Extra Resources"
      ]
    },
    {
      "cell_type": "markdown",
      "metadata": {
        "id": "-XiKlKvS0ibE"
      },
      "source": [
        "If you're interested in learning more about Python or programming, here are a few resources."
      ]
    },
    {
      "cell_type": "markdown",
      "metadata": {
        "id": "OkA7B2f0SF2D"
      },
      "source": [
        "* [W3Schools](https://www.w3schools.com/python/default.asp)\r\n",
        "* [Codecademy](https://www.codecademy.com/learn/learn-python)\r\n",
        "* [Wheeler Coding Club Resources](https://wheelercodingclub.github.io/wheeler-coding-club/resources.html)"
      ]
    },
    {
      "cell_type": "markdown",
      "metadata": {
        "id": "e5DR34MaTKDc"
      },
      "source": [
        "After learning all the basics of programming, it's best to challenge yourself and learn more by completing projects you're passionate about.\r\n",
        "\r\n",
        "<br>\r\n",
        "\r\n",
        "Thank you for attending this workshop, and we wish you luck with all your future coding endeavours!\r\n",
        "\r\n",
        "<br>\r\n",
        "\r\n",
        "Thank you,\r\n",
        "\r\n",
        "Wheeler Society of Women Engineers"
      ]
    }
  ]
}